{
 "cells": [
  {
   "cell_type": "markdown",
   "id": "4b55f3d1-4c9b-4f86-8369-e85f4c4a80cc",
   "metadata": {},
   "source": [
    "# Pull MIP table files; strip out extraneous variables\n",
    "<div style=\"text-align: right\">\n",
    "<p>\n",
    "    <img src=\"https://pcmdi.github.io/assets/PCMDI/199x65px-PCMDI-Logo-Text-rectangle.png\"\n",
    "         width=\"91\"\n",
    "         height=\"30\"\n",
    "         class=\"fixed-height-image\"\n",
    "         style=\"margin-right: 20px\"\n",
    "         title=\"Program for Climate Model Diagnosis and Intercomparison\"\n",
    "         alt=\"Program for Climate Model Diagnosis and Intercomparison\"\n",
    "    >&nbsp;\n",
    "    <img src=\"https://pcmdi.github.io/assets/LLNL/212px-LLNLiconPMS286-WHITEBACKGROUND.png\"\n",
    "         width=\"30\"\n",
    "         height=\"30\"\n",
    "         class=\"fixed-height-image\"\n",
    "         style=\"margin-right: 20px\"\n",
    "         title=\"Lawrence Livermore National Laboratory\"\n",
    "         alt=\"Lawrence Livermore National Laboratory\"\n",
    "    >&nbsp;\n",
    "    <img src=\"https://pcmdi.github.io/assets/DOE/459x127px-DOE-Logo_Color_TextOnly.png\"\n",
    "         width=\"108\"\n",
    "         height=\"30\"\n",
    "         class=\"fixed-height-image\"\n",
    "         style=\"margin-right: 20px\"\n",
    "         title=\"United States Department of Energy\"\n",
    "         alt=\"United States Department of Energy\"\n",
    "    >\n",
    "</p>\n",
    "</div>"
   ]
  },
  {
   "cell_type": "markdown",
   "id": "37b3c847-513c-4dc1-8c3e-a543d2e150df",
   "metadata": {},
   "source": [
    "**Summary**\n",
    "\n",
    "This file pulls a CMIP6Plus/CMOR3.9.0-era MIP table files, strips out\n",
    "extraneous variables and saves the files for local use\n",
    "\n",
    "**Authors**\n",
    "\n",
    "Paul J. Durack ([durack1](https://github.com/durack1); [PCMDI](https://pcmdi.llnl.gov/), [Lawrence Livermore National Laboratory](https://www.llnl.gov/))\n",
    "\n",
    "**Notes**\n",
    "\n",
    "PJD 14 Feb 2025 - initiated<br>\n",
    "PJD 14 Feb 2025 - updated with coordinate, formula_terms and grids<br>\n",
    "PJD 15 Feb 2025 - added \"Header\" to DRCDP_grids.json, may need to tweak this as grid_mapping functions are used (Header caused issues with coordinate, formula_terms)<br>\n",
    "PJD 15 Feb 2025 - correct DRCDP_grids, erroneously was copy of coordinate info<br>\n",
    "PJD 20 Feb 2025 - added hursmax, hursmin, rsds, sfcWind, and tdps variables<br>\n",
    "PJD  2 Jun 2025 - updating `DRCDP_grids.json` to match CMIP6 template (missing Header)<br>\n",
    "Note: `DRCDP_coordinate.json`, `DRCDP_formula_terms.json` match CMIP6 examples<br>\n",
    "PJD  2 Sep 2025 - update, add source_id EDDE2-0; AP1hr table<br>\n",
    "TODO:\n",
    "\n",
    "**Links**"
   ]
  },
  {
   "cell_type": "markdown",
   "id": "919a448f-79ac-49fe-ad24-024b5f8ace32",
   "metadata": {},
   "source": [
    "### imports"
   ]
  },
  {
   "cell_type": "code",
   "execution_count": 1,
   "id": "d7398b5e-e6a1-4320-92ef-a774fd942b95",
   "metadata": {},
   "outputs": [
    {
     "name": "stdout",
     "output_type": "stream",
     "text": [
      "CPU times: user 42.3 ms, sys: 17.3 ms, total: 59.6 ms\n",
      "Wall time: 68.7 ms\n"
     ]
    }
   ],
   "source": [
    "%%time\n",
    "import datetime\n",
    "import json\n",
    "import os\n",
    "import requests"
   ]
  },
  {
   "cell_type": "markdown",
   "id": "b61a22fa-0937-44fa-b854-49edb9de05da",
   "metadata": {},
   "source": [
    "### set table, coordinate, formula_terms and grids URLs and pull files"
   ]
  },
  {
   "cell_type": "code",
   "execution_count": 2,
   "id": "4afa0c75-2a7e-48cb-b357-387ec7401adb",
   "metadata": {},
   "outputs": [
    {
     "name": "stdout",
     "output_type": "stream",
     "text": [
      "0 AP1hr\n",
      "1 APday\n",
      "2 coordinate\n",
      "3 formula_terms\n",
      "4 grids\n",
      "CPU times: user 13.6 ms, sys: 6.12 ms, total: 19.7 ms\n",
      "Wall time: 96.5 ms\n"
     ]
    }
   ],
   "source": [
    "%%time\n",
    "urls = {\n",
    "    \"AP1hr\": \"https://raw.githubusercontent.com/PCMDI/mip-cmor-tables/refs/heads/main/Tables/MIP_AP1hr.json\",\n",
    "    \"APday\": \"https://raw.githubusercontent.com/PCMDI/mip-cmor-tables/refs/heads/main/Tables/MIP_APday.json\",\n",
    "    \"coordinate\": \"https://raw.githubusercontent.com/PCMDI/input4mips-cmor-tables/refs/heads/master/Tables/input4MIPs_coordinate.json\",\n",
    "    \"formula_terms\": \"https://raw.githubusercontent.com/PCMDI/input4mips-cmor-tables/refs/heads/master/Tables/input4MIPs_formula_terms.json\",\n",
    "    \"grids\": \"https://raw.githubusercontent.com/PCMDI/cmip6-cmor-tables/refs/heads/main/Tables/CMIP6_grids.json\",\n",
    "}\n",
    "\n",
    "# loop through urls\n",
    "keys = urls.keys()\n",
    "for count, key in enumerate(keys):\n",
    "    print(count, key)\n",
    "    url = urls[key]\n",
    "    try:\n",
    "        response = requests.get(url)\n",
    "        response.raise_for_status()  # Raise HTTPError for bad responses (4/5xx)\n",
    "        vars()[key] = json.loads(response.text)\n",
    "    except requests.exceptions.RequestException as e:\n",
    "        print(f\"Request failed: {e}\")\n",
    "    except json.JSONDecodeError as e:\n",
    "        print(f\"JSON decode failed: {e}\")\n",
    "    except Exception as e:\n",
    "        print(f\"Unexpected error occurred: {e}\")"
   ]
  },
  {
   "cell_type": "markdown",
   "id": "061841c6-6b22-4f6d-bf93-79424bb2baca",
   "metadata": {},
   "source": [
    "### AP1hr, APday - trim out redundant variables"
   ]
  },
  {
   "cell_type": "code",
   "execution_count": 3,
   "id": "451eace0-e968-4e2e-a016-7933ef273449",
   "metadata": {},
   "outputs": [],
   "source": [
    "keepKeys = [\"hursmax\", \"hursmin\", \"pr\", \"rsds\", \"sfcWind\", \"tasmax\", \"tasmin\", \"tdps\"]\n",
    "keyList = list(AP1hr[\"variable_entry\"].keys())\n",
    "for count, key in enumerate(keyList):\n",
    "    if key not in keepKeys:\n",
    "        AP1hr[\"variable_entry\"].pop(key)\n",
    "keyList = list(APday[\"variable_entry\"].keys())\n",
    "for count, key in enumerate(keyList):\n",
    "    if key not in keepKeys:\n",
    "        APday[\"variable_entry\"].pop(key)"
   ]
  },
  {
   "cell_type": "markdown",
   "id": "d19aff9f-cff5-41de-a149-5f8185485dce",
   "metadata": {},
   "source": [
    "### check remaining table entries"
   ]
  },
  {
   "cell_type": "code",
   "execution_count": 4,
   "id": "cc757ae6-8cd1-4062-b305-183c6ec33911",
   "metadata": {},
   "outputs": [
    {
     "data": {
      "text/plain": [
       "dict_keys(['hursmax', 'hursmin', 'pr', 'rsds', 'sfcWind', 'tasmax', 'tasmin', 'tdps'])"
      ]
     },
     "execution_count": 4,
     "metadata": {},
     "output_type": "execute_result"
    }
   ],
   "source": [
    "# cleanup comments\n",
    "for key in APday[\"variable_entry\"].keys():\n",
    "    APday[\"variable_entry\"][key][\"comment\"] = APday[\"variable_entry\"][key][\n",
    "        \"comment\"\n",
    "    ].replace(\".\", \"\")\n",
    "    APday[\"variable_entry\"][key][\"comment\"] = APday[\"variable_entry\"][key][\n",
    "        \"comment\"\n",
    "    ].replace(\"T> 0\", \"T>0\")\n",
    "APday[\"variable_entry\"].keys()"
   ]
  },
  {
   "cell_type": "markdown",
   "id": "f374545b-51b6-43da-9a89-b4c4766adad8",
   "metadata": {},
   "source": [
    "### update header"
   ]
  },
  {
   "cell_type": "code",
   "execution_count": 5,
   "id": "6edc9a93-39b7-4e7d-8c26-566fb0891dfb",
   "metadata": {},
   "outputs": [
    {
     "data": {
      "text/plain": [
       "{'Conventions': 'CF-1.7 CMIP-6.5',\n",
       " 'approx_interval': 1.0,\n",
       " 'checksum': '',\n",
       " 'cmor_version': '3.8.0',\n",
       " 'data_specs_version': '6.5.0.0',\n",
       " 'generic_levels': '',\n",
       " 'int_missing_value': '-999',\n",
       " 'missing_value': '1e20',\n",
       " 'product': 'model-output',\n",
       " 'table_date': '2024-02-28',\n",
       " 'table_id': 'APday'}"
      ]
     },
     "execution_count": 5,
     "metadata": {},
     "output_type": "execute_result"
    }
   ],
   "source": [
    "APday[\"Header\"]"
   ]
  },
  {
   "cell_type": "code",
   "execution_count": 6,
   "id": "21c4f23d-9f86-4180-980e-008db9f898fb",
   "metadata": {},
   "outputs": [
    {
     "name": "stdout",
     "output_type": "stream",
     "text": [
      "mipTHash: f42386929a0057ed15e66a3bac045b8c00d33c0f\n",
      "inp4Hash: e4fa82f330125fbdd78fa8315225829eabffee70\n",
      "CPU times: user 16 ms, sys: 5.19 ms, total: 21.2 ms\n",
      "Wall time: 471 ms\n"
     ]
    }
   ],
   "source": [
    "%%time\n",
    "# get current commit hash\n",
    "url = \"https://api.github.com/repos/PCMDI/mip-cmor-tables/commits/main\"\n",
    "response = requests.get(url)\n",
    "js = json.loads(response.text)\n",
    "mipTHash = js[\"sha\"]\n",
    "url = \"https://api.github.com/repos/PCMDI/input4MIPs-cmor-tables/commits/master\"\n",
    "response = requests.get(url)\n",
    "js = json.loads(response.text)\n",
    "inp4Hash = js[\"sha\"]\n",
    "print(\"mipTHash:\", mipTHash)\n",
    "print(\"inp4Hash:\", inp4Hash)"
   ]
  },
  {
   "cell_type": "code",
   "execution_count": 7,
   "id": "b759f7d8-8deb-4069-b385-93e4c61e9610",
   "metadata": {},
   "outputs": [
    {
     "data": {
      "text/plain": [
       "{'Conventions': 'CF-1.7 CMIP-6.5',\n",
       " 'approx_interval': 1.0,\n",
       " 'cmor_version': '3.9.0',\n",
       " 'data_specs_version': '6.5.0.0; mip-cmor-tables; f42386929a0057ed15e66a3bac045b8c00d33c0f',\n",
       " 'generic_levels': '',\n",
       " 'int_missing_value': '-999',\n",
       " 'missing_value': '1e20',\n",
       " 'product': 'DRCDP',\n",
       " 'table_date': '2025-09-03',\n",
       " 'table_id': 'APday'}"
      ]
     },
     "execution_count": 7,
     "metadata": {},
     "output_type": "execute_result"
    }
   ],
   "source": [
    "AP1hr[\"Header\"][\"cmor_version\"] = \"3.9.0\"\n",
    "AP1hr[\"Header\"][\"data_specs_version\"] = \" \".join(\n",
    "    [\"6.5.0.0; mip-cmor-tables;\", mipTHash]\n",
    ")\n",
    "AP1hr[\"Header\"][\"table_date\"] = datetime.datetime.now().strftime(\"%Y-%m-%d\")\n",
    "AP1hr[\"Header\"][\"product\"] = \"DRCDP\"\n",
    "AP1hr[\"Header\"].pop(\"checksum\")  # remove invalid entry, CMOR 3.9.0\n",
    "AP1hr[\"Header\"]\n",
    "\n",
    "APday[\"Header\"][\"cmor_version\"] = \"3.9.0\"\n",
    "APday[\"Header\"][\"data_specs_version\"] = \" \".join(\n",
    "    [\"6.5.0.0; mip-cmor-tables;\", mipTHash]\n",
    ")\n",
    "APday[\"Header\"][\"table_date\"] = datetime.datetime.now().strftime(\"%Y-%m-%d\")\n",
    "APday[\"Header\"][\"product\"] = \"DRCDP\"\n",
    "APday[\"Header\"].pop(\"checksum\")  # remove invalid entry, CMOR 3.9.0\n",
    "APday[\"Header\"]"
   ]
  },
  {
   "cell_type": "markdown",
   "id": "93331885-8c27-498f-ace6-e102e85060b6",
   "metadata": {},
   "source": [
    "### build Header entry for grids (ignore coordinate, formula_terms)"
   ]
  },
  {
   "cell_type": "code",
   "execution_count": 8,
   "id": "8f74c354-4f6f-42ca-9da2-0f82fbeee87d",
   "metadata": {},
   "outputs": [],
   "source": [
    "Header = {}\n",
    "Header[\"Conventions\"] = \"CF-1.7 CMIP-6.5\"\n",
    "Header[\"cmor_version\"] = \"3.9.0\"\n",
    "# Header[\"data_specs_version\"] = \" \".join([\"6.5.0.0; input4MIPs-cmor-tables;\", inp4Hash])\n",
    "Header[\"data_specs_version\"] = (\n",
    "    \"6.5.0.0; cmip6-cmor-tables; 30dbad3ea0785c760c621b02185025c69df4d314\"\n",
    ")\n",
    "Header[\"missing_value\"] = \"1e20\"\n",
    "Header[\"product\"] = \"DRCDP\"\n",
    "Header[\"table_date\"] = datetime.datetime.now().strftime(\"%Y-%m-%d\")\n",
    "Header[\"table_id\"] = \"Table grids\""
   ]
  },
  {
   "cell_type": "markdown",
   "id": "6b3727a6-8a0b-410a-afdb-92c810e95c9d",
   "metadata": {},
   "source": [
    "### write all files out to Tables subdir"
   ]
  },
  {
   "cell_type": "code",
   "execution_count": 9,
   "id": "c9b3f3d2-b64f-47be-90a0-48cb319bdd8d",
   "metadata": {},
   "outputs": [
    {
     "name": "stdout",
     "output_type": "stream",
     "text": [
      "0 AP1hr\n",
      "1 APday\n",
      "2 coordinate\n",
      "3 formula_terms\n",
      "4 grids\n"
     ]
    }
   ],
   "source": [
    "tableName = \"../Tables/DRCDP_APday.json\"\n",
    "files = [\"AP1hr\", \"APday\", \"coordinate\", \"formula_terms\", \"grids\"]\n",
    "for count, name in enumerate(files):\n",
    "    print(count, name)\n",
    "    dic = eval(name)\n",
    "    # add Header\n",
    "    if name not in [\"AP1hr\", \"APday\", \"coordinate\", \"formula_terms\"]:\n",
    "        # exclude Header rewrite for APday, Header add for coordinate/formula_terms as changes CMOR 3.9.0 behaviours\n",
    "        dic[\"Header\"] = Header\n",
    "    # write file\n",
    "    outFile = \"\".join([\"../Tables/DRCDP_\", name, \".json\"])\n",
    "    with open(outFile, \"w\") as f:\n",
    "        json.dump(\n",
    "            dic, f, ensure_ascii=True, sort_keys=True, indent=4, separators=(\",\", \":\")\n",
    "        )"
   ]
  }
 ],
 "metadata": {
  "kernelspec": {
   "display_name": "Python 3 (ipykernel)",
   "language": "python",
   "name": "python3"
  },
  "language_info": {
   "codemirror_mode": {
    "name": "ipython",
    "version": 3
   },
   "file_extension": ".py",
   "mimetype": "text/x-python",
   "name": "python",
   "nbconvert_exporter": "python",
   "pygments_lexer": "ipython3",
   "version": "3.11.13"
  }
 },
 "nbformat": 4,
 "nbformat_minor": 5
}
